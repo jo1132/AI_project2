{
 "cells": [
  {
   "cell_type": "markdown",
   "metadata": {},
   "source": [
    "## Dataset load"
   ]
  },
  {
   "cell_type": "code",
   "execution_count": 26,
   "metadata": {},
   "outputs": [],
   "source": [
    "import tensorflow as tf\n",
    "import matplotlib.pyplot as plt\n",
    "import pandas as pd\n",
    "from PIL import Image\n",
    "import os\n",
    "\n",
    "\n",
    "(x_train, y_train), (x_test, y_test) = tf.keras.datasets.mnist.load_data()\n"
   ]
  },
  {
   "cell_type": "code",
   "execution_count": 29,
   "metadata": {},
   "outputs": [],
   "source": [
    "def ImageSave(path, image_arr, file_name):\n",
    "    image = Image.fromarray(image_arr)\n",
    "    image.save(os.path.join(path, file_name+'.jpg'))"
   ]
  },
  {
   "cell_type": "code",
   "execution_count": 35,
   "metadata": {},
   "outputs": [
    {
     "name": "stdout",
     "output_type": "stream",
     "text": [
      "test done\n"
     ]
    }
   ],
   "source": [
    "PATH = '/root/scikit_learn_data'\n",
    "\n",
    "\n",
    "type_path = os.path.join(PATH, 'test')\n",
    "os.makedirs(type_path, exist_ok=True)\n",
    "for i, image in enumerate(x_test):\n",
    "    ImageSave(type_path, image, str(i))\n",
    "df = pd.DataFrame(y_test)  \n",
    "df.to_csv(os.path.join(type_path, 'labels.csv'), index=False)\n",
    "\n",
    "print('test done')\n",
    "\n",
    "type_path = os.path.join(PATH, 'train')\n",
    "os.makedirs(type_path, exist_ok=True)\n",
    "# image_save\n",
    "for i, image in enumerate(x_train):\n",
    "    ImageSave(type_path, image, str(i))\n",
    "df = pd.DataFrame(y_train)  \n",
    "df.to_csv(os.path.join(type_path, 'labels.csv'), index=False)"
   ]
  },
  {
   "cell_type": "code",
   "execution_count": 37,
   "metadata": {},
   "outputs": [
    {
     "data": {
      "text/plain": [
       "784"
      ]
     },
     "execution_count": 37,
     "metadata": {},
     "output_type": "execute_result"
    }
   ],
   "source": []
  },
  {
   "cell_type": "markdown",
   "metadata": {},
   "source": [
    "# Scoring"
   ]
  },
  {
   "cell_type": "code",
   "execution_count": 50,
   "metadata": {},
   "outputs": [
    {
     "name": "stdout",
     "output_type": "stream",
     "text": [
      "0.10085\n"
     ]
    }
   ],
   "source": [
    "import sklearn\n",
    "from sklearn.metrics import accuracy_score\n",
    "\n",
    "import pandas as pd\n",
    "import random\n",
    "\n",
    "label_path = '/root/scikit_learn_data/test/labels.csv'\n",
    "labels = pd.read_csv(label_path)\n",
    "\n",
    "num = [i for i in range(10)]\n",
    "randoms = [random.choice(num) for _ in range(len(labels))]\n",
    "\n",
    "acc = accuracy_score(randoms, labels)\n",
    "print(round(acc, 5))"
   ]
  },
  {
   "cell_type": "code",
   "execution_count": null,
   "metadata": {},
   "outputs": [
    {
     "data": {
      "text/plain": [
       "[0, 1, 2, 3, 4, 5, 6, 7, 8, 9]"
      ]
     },
     "execution_count": 47,
     "metadata": {},
     "output_type": "execute_result"
    }
   ],
   "source": [
    "num\n",
    "\n"
   ]
  },
  {
   "cell_type": "markdown",
   "metadata": {},
   "source": [
    "# Train"
   ]
  },
  {
   "cell_type": "code",
   "execution_count": 17,
   "metadata": {},
   "outputs": [],
   "source": [
    "# 필요한 라이브러리들을 임포트합니다.\n",
    "import numpy as np\n",
    "import matplotlib.pyplot as plt\n",
    "import os\n",
    "import tensorflow as tf\n",
    "import pandas as pd\n",
    "from tensorflow.keras import layers, models\n",
    "from tensorflow.keras.utils import to_categorical\n",
    "from tensorflow.keras.utils import Sequence"
   ]
  },
  {
   "cell_type": "code",
   "execution_count": 19,
   "metadata": {},
   "outputs": [],
   "source": [
    "class Dataloader(Sequence):\n",
    "\n",
    "    def __init__(self, dataset_path, label_path):\n",
    "        self.dataset_path = dataset_path \n",
    "        self.label_path = label_path\n",
    "\n",
    "    def load_images(self, path):\n",
    "        images = []\n",
    "        file_list = os.listdir(path)\n",
    "        \n",
    "        for file in file_list[:10]:\n",
    "            if os.path.splitext(file)[-1] == '.jpg':\n",
    "                images.append(plt.imread(os.path.join(path, file)))\n",
    "        return np.array(images)\n",
    "\n",
    "    def load_labels(self, path):\n",
    "        path = os.path.join(path, 'labels.csv')\n",
    "        return pd.read_csv(path)\n",
    "    \n",
    "    def get_datasets(self, file='train'):\n",
    "        path = os.path.join(self.dataset_path, file)\n",
    "        print(path)\n",
    "        datasets = self.load_images(path)\n",
    "        labels = self.load_labels(path)\n",
    "        return (datasets, labels)"
   ]
  },
  {
   "cell_type": "code",
   "execution_count": 21,
   "metadata": {},
   "outputs": [
    {
     "name": "stdout",
     "output_type": "stream",
     "text": [
      "load data\n",
      "/root/scikit_learn_data/train\n",
      "10\n",
      "/root/scikit_learn_data/test\n"
     ]
    }
   ],
   "source": [
    "# 데이터를 로드합니다.\n",
    "print('load data')\n",
    "datasets = Dataloader('/root/scikit_learn_data', 'labels.csv')\n",
    "\n",
    "x_train, y_train = datasets.get_datasets('train')\n",
    "print(len(x_train))\n",
    "x_test, y_test = datasets.get_datasets('test')\n",
    "\n",
    "# 입력 데이터를 [0, 1] 범위로 정규화합니다.\n",
    "x_train = x_train.astype('float32') / 255.0\n",
    "x_test = x_test.astype('float32') / 255.0\n",
    "\n",
    "# 레이블을 one-hot 인코딩합니다.\n",
    "y_train = to_categorical(y_train, 10)\n",
    "y_test = to_categorical(y_test, 10)"
   ]
  },
  {
   "cell_type": "code",
   "execution_count": 26,
   "metadata": {},
   "outputs": [
    {
     "name": "stdout",
     "output_type": "stream",
     "text": [
      "[0. 0. 0. 0. 0. 1. 0. 0. 0. 0.]\n",
      "(28, 28)\n"
     ]
    },
    {
     "data": {
      "image/png": "[encoded data removed]",
      "text/plain": [
       "<Figure size 640x480 with 1 Axes>"
      ]
     },
     "metadata": {},
     "output_type": "display_data"
    }
   ],
   "source": [
    "plt.imshow(x_train[0])\n",
    "print(y_train[0])\n",
    "print(x_train[0].shape)"
   ]
  },
  {
   "cell_type": "code",
   "execution_count": null,
   "metadata": {},
   "outputs": [],
   "source": []
  }
 ],
 "metadata": {
  "kernelspec": {
   "display_name": "Python 3",
   "language": "python",
   "name": "python3"
  },
  "language_info": {
   "codemirror_mode": {
    "name": "ipython",
    "version": 3
   },
   "file_extension": ".py",
   "mimetype": "text/x-python",
   "name": "python",
   "nbconvert_exporter": "python",
   "pygments_lexer": "ipython3",
   "version": "3.9.16"
  },
  "orig_nbformat": 4
 },
 "nbformat": 4,
 "nbformat_minor": 2
}
