{
 "cells": [
  {
   "cell_type": "markdown",
   "metadata": {},
   "source": [
    "## Dataset load"
   ]
  },
  {
   "cell_type": "code",
   "execution_count": 54,
   "metadata": {},
   "outputs": [],
   "source": [
    "import tensorflow as tf\n",
    "import matplotlib.pyplot as plt\n",
    "import pandas as pd\n",
    "from PIL import Image\n",
    "import os\n",
    "\n",
    "\n",
    "(x_train, y_train), (x_test, y_test) = tf.keras.datasets.mnist.load_data()\n"
   ]
  },
  {
   "cell_type": "code",
   "execution_count": 55,
   "metadata": {},
   "outputs": [],
   "source": [
    "def ImageSave(path, image_arr, file_name):\n",
    "    image = Image.fromarray(image_arr)\n",
    "    image.save(os.path.join(path, file_name))\n"
   ]
  },
  {
   "cell_type": "code",
   "execution_count": 56,
   "metadata": {},
   "outputs": [
    {
     "name": "stdout",
     "output_type": "stream",
     "text": [
      "test done\n"
     ]
    }
   ],
   "source": [
    "PATH = '/root/scikit_learn_data'\n",
    "\n",
    "data = []\n",
    "type_path = os.path.join(PATH, 'test')\n",
    "os.makedirs(type_path, exist_ok=True)\n",
    "\n",
    "# image_save\n",
    "for i, (image, label) in enumerate(zip(x_test, y_test)):\n",
    "    filename = str(i) + '.jpg'\n",
    "    ImageSave(type_path, image, filename)\n",
    "    data.append([filename, label])\n",
    "\n",
    "df = pd.DataFrame(data)  \n",
    "df.to_csv(os.path.join(type_path, 'labels.csv'), index=False)\n",
    "\n",
    "print('test done')"
   ]
  },
  {
   "cell_type": "code",
   "execution_count": 58,
   "metadata": {},
   "outputs": [
    {
     "ename": "ValueError",
     "evalue": "unknown file extension: ",
     "output_type": "error",
     "traceback": [
      "\u001b[0;31m---------------------------------------------------------------------------\u001b[0m",
      "\u001b[0;31mKeyError\u001b[0m                                  Traceback (most recent call last)",
      "File \u001b[0;32m/usr/local/lib/python3.9/site-packages/PIL/Image.py:2390\u001b[0m, in \u001b[0;36mImage.save\u001b[0;34m(self, fp, format, **params)\u001b[0m\n\u001b[1;32m   2389\u001b[0m \u001b[39mtry\u001b[39;00m:\n\u001b[0;32m-> 2390\u001b[0m     \u001b[39mformat\u001b[39m \u001b[39m=\u001b[39m EXTENSION[ext]\n\u001b[1;32m   2391\u001b[0m \u001b[39mexcept\u001b[39;00m \u001b[39mKeyError\u001b[39;00m \u001b[39mas\u001b[39;00m e:\n",
      "\u001b[0;31mKeyError\u001b[0m: ''",
      "\nThe above exception was the direct cause of the following exception:\n",
      "\u001b[0;31mValueError\u001b[0m                                Traceback (most recent call last)",
      "\u001b[1;32m/root/notebook.ipynb Cell 5\u001b[0m line \u001b[0;36m1\n\u001b[1;32m      <a href='vscode-notebook-cell://attached-container%2B7b22636f6e7461696e65724e616d65223a222f41495f50726f6a65637432227d/root/notebook.ipynb#W3sdnNjb2RlLXJlbW90ZQ%3D%3D?line=7'>8</a>\u001b[0m \u001b[39mfor\u001b[39;00m i, (image, label) \u001b[39min\u001b[39;00m \u001b[39menumerate\u001b[39m(\u001b[39mzip\u001b[39m(x_train, y_train)):\n\u001b[1;32m      <a href='vscode-notebook-cell://attached-container%2B7b22636f6e7461696e65724e616d65223a222f41495f50726f6a65637432227d/root/notebook.ipynb#W3sdnNjb2RlLXJlbW90ZQ%3D%3D?line=8'>9</a>\u001b[0m     filename \u001b[39m=\u001b[39m \u001b[39mstr\u001b[39m(i) \u001b[39m+\u001b[39m \u001b[39m'\u001b[39m\u001b[39m.jpg\u001b[39m\u001b[39m'\u001b[39m\n\u001b[0;32m---> <a href='vscode-notebook-cell://attached-container%2B7b22636f6e7461696e65724e616d65223a222f41495f50726f6a65637432227d/root/notebook.ipynb#W3sdnNjb2RlLXJlbW90ZQ%3D%3D?line=9'>10</a>\u001b[0m     ImageSave(type_path, image, \u001b[39mstr\u001b[39;49m(i))\n\u001b[1;32m     <a href='vscode-notebook-cell://attached-container%2B7b22636f6e7461696e65724e616d65223a222f41495f50726f6a65637432227d/root/notebook.ipynb#W3sdnNjb2RlLXJlbW90ZQ%3D%3D?line=10'>11</a>\u001b[0m     data\u001b[39m.\u001b[39mappend([\u001b[39mstr\u001b[39m(i)\u001b[39m+\u001b[39m\u001b[39m'\u001b[39m\u001b[39m.jpg\u001b[39m\u001b[39m'\u001b[39m, label])\n\u001b[1;32m     <a href='vscode-notebook-cell://attached-container%2B7b22636f6e7461696e65724e616d65223a222f41495f50726f6a65637432227d/root/notebook.ipynb#W3sdnNjb2RlLXJlbW90ZQ%3D%3D?line=12'>13</a>\u001b[0m df \u001b[39m=\u001b[39m pd\u001b[39m.\u001b[39mDataFrame(data)   \n",
      "\u001b[1;32m/root/notebook.ipynb Cell 5\u001b[0m line \u001b[0;36m3\n\u001b[1;32m      <a href='vscode-notebook-cell://attached-container%2B7b22636f6e7461696e65724e616d65223a222f41495f50726f6a65637432227d/root/notebook.ipynb#W3sdnNjb2RlLXJlbW90ZQ%3D%3D?line=0'>1</a>\u001b[0m \u001b[39mdef\u001b[39;00m \u001b[39mImageSave\u001b[39m(path, image_arr, file_name):\n\u001b[1;32m      <a href='vscode-notebook-cell://attached-container%2B7b22636f6e7461696e65724e616d65223a222f41495f50726f6a65637432227d/root/notebook.ipynb#W3sdnNjb2RlLXJlbW90ZQ%3D%3D?line=1'>2</a>\u001b[0m     image \u001b[39m=\u001b[39m Image\u001b[39m.\u001b[39mfromarray(image_arr)\n\u001b[0;32m----> <a href='vscode-notebook-cell://attached-container%2B7b22636f6e7461696e65724e616d65223a222f41495f50726f6a65637432227d/root/notebook.ipynb#W3sdnNjb2RlLXJlbW90ZQ%3D%3D?line=2'>3</a>\u001b[0m     image\u001b[39m.\u001b[39;49msave(os\u001b[39m.\u001b[39;49mpath\u001b[39m.\u001b[39;49mjoin(path, file_name))\n",
      "File \u001b[0;32m/usr/local/lib/python3.9/site-packages/PIL/Image.py:2393\u001b[0m, in \u001b[0;36mImage.save\u001b[0;34m(self, fp, format, **params)\u001b[0m\n\u001b[1;32m   2391\u001b[0m     \u001b[39mexcept\u001b[39;00m \u001b[39mKeyError\u001b[39;00m \u001b[39mas\u001b[39;00m e:\n\u001b[1;32m   2392\u001b[0m         msg \u001b[39m=\u001b[39m \u001b[39mf\u001b[39m\u001b[39m\"\u001b[39m\u001b[39munknown file extension: \u001b[39m\u001b[39m{\u001b[39;00mext\u001b[39m}\u001b[39;00m\u001b[39m\"\u001b[39m\n\u001b[0;32m-> 2393\u001b[0m         \u001b[39mraise\u001b[39;00m \u001b[39mValueError\u001b[39;00m(msg) \u001b[39mfrom\u001b[39;00m \u001b[39me\u001b[39;00m\n\u001b[1;32m   2395\u001b[0m \u001b[39mif\u001b[39;00m \u001b[39mformat\u001b[39m\u001b[39m.\u001b[39mupper() \u001b[39mnot\u001b[39;00m \u001b[39min\u001b[39;00m SAVE:\n\u001b[1;32m   2396\u001b[0m     init()\n",
      "\u001b[0;31mValueError\u001b[0m: unknown file extension: "
     ]
    }
   ],
   "source": [
    "PATH = '/root/scikit_learn_data'\n",
    "\n",
    "data = []\n",
    "type_path = os.path.join(PATH, 'train')\n",
    "os.makedirs(type_path, exist_ok=True)\n",
    "\n",
    "# image_save\n",
    "for i, (image, label) in enumerate(zip(x_train, y_train)):\n",
    "    filename = str(i) + '.jpg'\n",
    "    ImageSave(type_path, image, filename)\n",
    "    data.append([filename, label])\n",
    "    \n",
    "df = pd.DataFrame(data)   \n",
    "df.to_csv(os.path.join(type_path, 'labels.csv'), index=False)\n",
    "print('train done')"
   ]
  },
  {
   "cell_type": "code",
   "execution_count": 37,
   "metadata": {},
   "outputs": [
    {
     "data": {
      "text/plain": [
       "784"
      ]
     },
     "execution_count": 37,
     "metadata": {},
     "output_type": "execute_result"
    }
   ],
   "source": []
  },
  {
   "cell_type": "markdown",
   "metadata": {},
   "source": [
    "# Scoring"
   ]
  },
  {
   "cell_type": "code",
   "execution_count": 50,
   "metadata": {},
   "outputs": [
    {
     "name": "stdout",
     "output_type": "stream",
     "text": [
      "0.10085\n"
     ]
    }
   ],
   "source": [
    "import sklearn\n",
    "from sklearn.metrics import accuracy_score\n",
    "\n",
    "import pandas as pd\n",
    "import random\n",
    "\n",
    "label_path = '/root/scikit_learn_data/test/labels.csv'\n",
    "labels = pd.read_csv(label_path)\n",
    "\n",
    "num = [i for i in range(10)]\n",
    "randoms = [random.choice(num) for _ in range(len(labels))]\n",
    "\n",
    "acc = accuracy_score(randoms, labels)\n",
    "print(round(acc, 5))"
   ]
  },
  {
   "cell_type": "code",
   "execution_count": null,
   "metadata": {},
   "outputs": [
    {
     "data": {
      "text/plain": [
       "[0, 1, 2, 3, 4, 5, 6, 7, 8, 9]"
      ]
     },
     "execution_count": 47,
     "metadata": {},
     "output_type": "execute_result"
    }
   ],
   "source": [
    "num\n",
    "\n"
   ]
  },
  {
   "cell_type": "markdown",
   "metadata": {},
   "source": [
    "# Train"
   ]
  },
  {
   "cell_type": "code",
   "execution_count": 17,
   "metadata": {},
   "outputs": [],
   "source": [
    "# 필요한 라이브러리들을 임포트합니다.\n",
    "import numpy as np\n",
    "import matplotlib.pyplot as plt\n",
    "import os\n",
    "import tensorflow as tf\n",
    "import pandas as pd\n",
    "from tensorflow.keras import layers, models\n",
    "from tensorflow.keras.utils import to_categorical\n",
    "from tensorflow.keras.utils import Sequence"
   ]
  },
  {
   "cell_type": "code",
   "execution_count": 19,
   "metadata": {},
   "outputs": [],
   "source": [
    "class Dataloader(Sequence):\n",
    "\n",
    "    def __init__(self, dataset_path, label_path):\n",
    "        self.dataset_path = dataset_path \n",
    "        self.label_path = label_path\n",
    "\n",
    "    def load_images(self, path):\n",
    "        images = []\n",
    "        file_list = os.listdir(path)\n",
    "        \n",
    "        for file in file_list[:10]:\n",
    "            if os.path.splitext(file)[-1] == '.jpg':\n",
    "                images.append(plt.imread(os.path.join(path, file)))\n",
    "        return np.array(images)\n",
    "\n",
    "    def load_labels(self, path):\n",
    "        path = os.path.join(path, 'labels.csv')\n",
    "        return pd.read_csv(path)\n",
    "    \n",
    "    def get_datasets(self, file='train'):\n",
    "        path = os.path.join(self.dataset_path, file)\n",
    "        print(path)\n",
    "        datasets = self.load_images(path)\n",
    "        labels = self.load_labels(path)\n",
    "        return (datasets, labels)"
   ]
  },
  {
   "cell_type": "code",
   "execution_count": 31,
   "metadata": {},
   "outputs": [
    {
     "name": "stdout",
     "output_type": "stream",
     "text": [
      "load data\n",
      "/root/scikit_learn_data/train\n",
      "10\n",
      "/root/scikit_learn_data/test\n"
     ]
    }
   ],
   "source": [
    "# 데이터를 로드합니다.\n",
    "print('load data')\n",
    "datasets = Dataloader('/root/scikit_learn_data', 'labels.csv')\n",
    "\n",
    "x_train, y_train = datasets.get_datasets('train')\n",
    "print(len(x_train))\n",
    "x_test, y_test = datasets.get_datasets('test')\n",
    "\n",
    "# 입력 데이터를 [0, 1] 범위로 정규화합니다.\n",
    "x_train = x_train.astype('float32') / 255.0\n",
    "x_test = x_test.astype('float32') / 255.0\n",
    "\n",
    "# 딥력데이터의 모양을 바꿉니다.\n",
    "x_train = x_train.reshape(-1, 28, 28, 1)\n",
    "x_test = x_test.reshape(-1, 28, 28, 1)\n",
    "\n",
    "# 레이블을 one-hot 인코딩합니다.\n",
    "y_train = to_categorical(y_train, 10)\n",
    "y_test = to_categorical(y_test, 10)"
   ]
  },
  {
   "cell_type": "code",
   "execution_count": 45,
   "metadata": {},
   "outputs": [
    {
     "data": {
      "image/png": "[encoded data removed]",
      "text/plain": [
       "<Figure size 800x800 with 10 Axes>"
      ]
     },
     "metadata": {},
     "output_type": "display_data"
    }
   ],
   "source": [
    "# 그림 생성 및 축 설정\n",
    "fig, axes = plt.subplots(10, 1, figsize=(8, 8))\n",
    "\n",
    "for img, label in zip(x_train, y_train):\n",
    "    plt.imshow(img.reshape(28 , 28))\n",
    "    plt.title(np.argmax(label))\n",
    "plt.show()"
   ]
  },
  {
   "cell_type": "code",
   "execution_count": 30,
   "metadata": {},
   "outputs": [
    {
     "data": {
      "text/plain": [
       "(10, 28, 28, 1)"
      ]
     },
     "execution_count": 30,
     "metadata": {},
     "output_type": "execute_result"
    }
   ],
   "source": [
    "test = x_train.reshape(-1, 28, 28, 1)\n",
    "test.shape"
   ]
  },
  {
   "cell_type": "code",
   "execution_count": 40,
   "metadata": {},
   "outputs": [
    {
     "name": "stdout",
     "output_type": "stream",
     "text": [
      "1.0\n"
     ]
    }
   ],
   "source": [
    "max = 0\n",
    "for x in x_train[0]:\n",
    "    for y in x:\n",
    "        if max < y[0]:\n",
    "            max = y[0]\n",
    "\n",
    "print(max)"
   ]
  },
  {
   "cell_type": "code",
   "execution_count": null,
   "metadata": {},
   "outputs": [],
   "source": []
  }
 ],
 "metadata": {
  "kernelspec": {
   "display_name": "Python 3",
   "language": "python",
   "name": "python3"
  },
  "language_info": {
   "codemirror_mode": {
    "name": "ipython",
    "version": 3
   },
   "file_extension": ".py",
   "mimetype": "text/x-python",
   "name": "python",
   "nbconvert_exporter": "python",
   "pygments_lexer": "ipython3",
   "version": "3.9.16"
  },
  "orig_nbformat": 4
 },
 "nbformat": 4,
 "nbformat_minor": 2
}
